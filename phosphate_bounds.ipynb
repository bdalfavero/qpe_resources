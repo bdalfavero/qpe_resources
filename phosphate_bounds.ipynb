{
 "cells": [
  {
   "cell_type": "code",
   "execution_count": 1,
   "id": "95bbbd53",
   "metadata": {},
   "outputs": [],
   "source": [
    "from math import sqrt, ceil\n",
    "import numpy as np\n",
    "from scipy.sparse.linalg import norm\n",
    "import matplotlib.pyplot as plt\n",
    "import pandas as pd\n",
    "import cirq\n",
    "import openfermion as of\n",
    "from openfermionpyscf import run_pyscf\n",
    "import qiskit\n",
    "from qiskit.circuit.library import PauliEvolutionGate, phase_estimation\n",
    "from qiskit.synthesis import LieTrotter\n",
    "from qiskit import transpile\n",
    "from qpe_trotter import get_gate_counts\n",
    "from convert import cirq_pauli_sum_to_qiskit_pauli_op"
   ]
  },
  {
   "cell_type": "code",
   "execution_count": 2,
   "id": "c7b16d2b",
   "metadata": {},
   "outputs": [],
   "source": [
    "def eps2_bound(hamiltonian: cirq.PauliSum) -> float:\n",
    "    \"\"\"Get a bound on eps2.\"\"\"\n",
    "\n",
    "    M = len(hamiltonian)\n",
    "    coeffs = np.array([ps.coefficient for ps in hamiltonian])\n",
    "    i_max = np.argmax(np.abs(coeffs))\n",
    "    max_coeff = coeffs[i_max]\n",
    "    n_summands = M\n",
    "    return (-1. / 24) * 0.5 * max_coeff ** 3 * n_summands ** 3"
   ]
  },
  {
   "cell_type": "code",
   "execution_count": 12,
   "id": "3a1ac5c6",
   "metadata": {},
   "outputs": [],
   "source": [
    "def tau_bound(ham_cirq: cirq.PauliSum) -> float:\n",
    "    \"\"\"Get a lower bound on tau from the traingle inequality.\"\"\"\n",
    "\n",
    "    coeffs = np.array([ps.coefficient for ps in ham_cirq])\n",
    "    ham_norm = np.sum(np.abs(coeffs))\n",
    "    tau = np.pi / (4. * ham_norm)\n",
    "    return tau"
   ]
  },
  {
   "cell_type": "code",
   "execution_count": 15,
   "id": "2e565886",
   "metadata": {},
   "outputs": [],
   "source": [
    "hamiltonian_threshold = 2e-2\n",
    "energy_error = 1e-3"
   ]
  },
  {
   "cell_type": "code",
   "execution_count": 13,
   "id": "fed56cca",
   "metadata": {},
   "outputs": [],
   "source": [
    "problem = \"reactant\"\n",
    "data = np.load(f\"./po3_1w_{problem}_22o.npz\")\n",
    "ecore = data[\"e_nuc\"]\n",
    "h1 = np.array(data[\"h1\"])\n",
    "h2 = np.array(data[\"h2\"])\n",
    "nelectrons = data[\"nelectron\"]\n",
    "\n",
    "h1_new, h2_new = of.chem.molecular_data.spinorb_from_spatial(h1, h2)\n",
    "h = of.InteractionOperator(ecore.item(), h1_new, h2_new)\n",
    "hamiltonian = of.get_fermion_operator(h)\n",
    "if hamiltonian_threshold is not None:\n",
    "    hamiltonian.compress(hamiltonian_threshold)\n",
    "hamiltonian = of.jordan_wigner(hamiltonian)\n",
    "ham_cirq = of.transforms.qubit_operator_to_pauli_sum(hamiltonian)"
   ]
  },
  {
   "cell_type": "code",
   "execution_count": 18,
   "id": "d598cf51",
   "metadata": {},
   "outputs": [
    {
     "name": "stdout",
     "output_type": "stream",
     "text": [
      "eps2 = 1.10783e+20+0.00000e+00j\n",
      "dt = 3.00444e-12\n",
      "tau = 6.57375e-04\n",
      "steps = 218801062\n"
     ]
    }
   ],
   "source": [
    "eps2 = eps2_bound(ham_cirq)\n",
    "tau = tau_bound(ham_cirq)\n",
    "dt = sqrt(energy_error / abs(eps2))\n",
    "nsteps = ceil(tau / dt)\n",
    "print(f\"eps2 = {eps2:4.5e}\")\n",
    "print(f\"dt = {dt:4.5e}\")\n",
    "print(f\"tau = {tau:4.5e}\")\n",
    "print(f\"steps = {nsteps}\")"
   ]
  },
  {
   "cell_type": "code",
   "execution_count": 19,
   "id": "dcb9278e",
   "metadata": {},
   "outputs": [],
   "source": [
    "problem = \"product\"\n",
    "data = np.load(f\"./po3_1w_{problem}_22o.npz\")\n",
    "ecore = data[\"e_nuc\"]\n",
    "h1 = np.array(data[\"h1\"])\n",
    "h2 = np.array(data[\"h2\"])\n",
    "nelectrons = data[\"nelectron\"]\n",
    "\n",
    "h1_new, h2_new = of.chem.molecular_data.spinorb_from_spatial(h1, h2)\n",
    "h = of.InteractionOperator(ecore.item(), h1_new, h2_new)\n",
    "hamiltonian = of.get_fermion_operator(h)\n",
    "if hamiltonian_threshold is not None:\n",
    "    hamiltonian.compress(hamiltonian_threshold)\n",
    "hamiltonian = of.jordan_wigner(hamiltonian)\n",
    "ham_cirq = of.transforms.qubit_operator_to_pauli_sum(hamiltonian)"
   ]
  },
  {
   "cell_type": "code",
   "execution_count": 20,
   "id": "2d297364",
   "metadata": {},
   "outputs": [
    {
     "name": "stdout",
     "output_type": "stream",
     "text": [
      "eps2 = 1.21074e+20+0.00000e+00j\n",
      "dt = 2.87391e-12\n",
      "tau = 6.47921e-04\n",
      "steps = 225448938\n"
     ]
    }
   ],
   "source": [
    "eps2 = eps2_bound(ham_cirq)\n",
    "tau = tau_bound(ham_cirq)\n",
    "dt = sqrt(energy_error / abs(eps2))\n",
    "nsteps = ceil(tau / dt)\n",
    "print(f\"eps2 = {eps2:4.5e}\")\n",
    "print(f\"dt = {dt:4.5e}\")\n",
    "print(f\"tau = {tau:4.5e}\")\n",
    "print(f\"steps = {nsteps}\")"
   ]
  },
  {
   "cell_type": "code",
   "execution_count": null,
   "id": "8003fa7f",
   "metadata": {},
   "outputs": [],
   "source": []
  }
 ],
 "metadata": {
  "kernelspec": {
   "display_name": "compare (3.13.7)",
   "language": "python",
   "name": "python3"
  },
  "language_info": {
   "codemirror_mode": {
    "name": "ipython",
    "version": 3
   },
   "file_extension": ".py",
   "mimetype": "text/x-python",
   "name": "python",
   "nbconvert_exporter": "python",
   "pygments_lexer": "ipython3",
   "version": "3.13.7"
  }
 },
 "nbformat": 4,
 "nbformat_minor": 5
}
