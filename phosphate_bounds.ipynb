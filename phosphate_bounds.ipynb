{
 "cells": [
  {
   "cell_type": "code",
   "execution_count": 1,
   "id": "95bbbd53",
   "metadata": {},
   "outputs": [],
   "source": [
    "from math import sqrt, ceil\n",
    "import numpy as np\n",
    "from scipy.sparse.linalg import norm\n",
    "import matplotlib.pyplot as plt\n",
    "import pandas as pd\n",
    "import cirq\n",
    "import openfermion as of\n",
    "from openfermionpyscf import run_pyscf\n",
    "import qiskit\n",
    "from qiskit.circuit.library import PauliEvolutionGate, phase_estimation\n",
    "from qiskit.synthesis import LieTrotter\n",
    "from qiskit import transpile\n",
    "from qpe_trotter import get_gate_counts\n",
    "from convert import cirq_pauli_sum_to_qiskit_pauli_op"
   ]
  },
  {
   "cell_type": "code",
   "execution_count": 2,
   "id": "c7b16d2b",
   "metadata": {},
   "outputs": [],
   "source": [
    "def eps2_bound(hamiltonian: cirq.PauliSum) -> float:\n",
    "    \"\"\"Get a bound on eps2.\"\"\"\n",
    "\n",
    "    M = len(hamiltonian)\n",
    "    coeffs = np.array([ps.coefficient for ps in hamiltonian])\n",
    "    i_max = np.argmax(np.abs(coeffs))\n",
    "    max_coeff = coeffs[i_max]\n",
    "    n_summands = M\n",
    "    return (-1. / 24) * 0.5 * max_coeff ** 3 * n_summands ** 3"
   ]
  },
  {
   "cell_type": "code",
   "execution_count": 4,
   "id": "be32b483",
   "metadata": {},
   "outputs": [
    {
     "ename": "KeyError",
     "evalue": "'ECORE is not a file in the archive'",
     "output_type": "error",
     "traceback": [
      "\u001b[31m---------------------------------------------------------------------------\u001b[39m",
      "\u001b[31mKeyError\u001b[39m                                  Traceback (most recent call last)",
      "\u001b[36mCell\u001b[39m\u001b[36m \u001b[39m\u001b[32mIn[4]\u001b[39m\u001b[32m, line 4\u001b[39m\n\u001b[32m      1\u001b[39m data = np.load(\u001b[33m\"\u001b[39m\u001b[33mpo3_1w_product_22o.npz\u001b[39m\u001b[33m\"\u001b[39m)\n\u001b[32m      3\u001b[39m \u001b[38;5;66;03m# Get core energy and one-/two-body tensors\u001b[39;00m\n\u001b[32m----> \u001b[39m\u001b[32m4\u001b[39m ecore = \u001b[43mdata\u001b[49m\u001b[43m[\u001b[49m\u001b[33;43m'\u001b[39;49m\u001b[33;43mECORE\u001b[39;49m\u001b[33;43m'\u001b[39;49m\u001b[43m]\u001b[49m\n\u001b[32m      5\u001b[39m h1 = np.array(data[\u001b[33m'\u001b[39m\u001b[33mH1\u001b[39m\u001b[33m'\u001b[39m])\n\u001b[32m      6\u001b[39m h2 = np.array(data[\u001b[33m'\u001b[39m\u001b[33mH2\u001b[39m\u001b[33m'\u001b[39m])\n",
      "\u001b[36mFile \u001b[39m\u001b[32m~/.venv/compare/lib/python3.13/site-packages/numpy/lib/npyio.py:263\u001b[39m, in \u001b[36mNpzFile.__getitem__\u001b[39m\u001b[34m(self, key)\u001b[39m\n\u001b[32m    261\u001b[39m         \u001b[38;5;28;01mreturn\u001b[39;00m \u001b[38;5;28mself\u001b[39m.zip.read(key)\n\u001b[32m    262\u001b[39m \u001b[38;5;28;01melse\u001b[39;00m:\n\u001b[32m--> \u001b[39m\u001b[32m263\u001b[39m     \u001b[38;5;28;01mraise\u001b[39;00m \u001b[38;5;167;01mKeyError\u001b[39;00m(\u001b[33mf\u001b[39m\u001b[33m\"\u001b[39m\u001b[38;5;132;01m{\u001b[39;00mkey\u001b[38;5;132;01m}\u001b[39;00m\u001b[33m is not a file in the archive\u001b[39m\u001b[33m\"\u001b[39m)\n",
      "\u001b[31mKeyError\u001b[39m: 'ECORE is not a file in the archive'"
     ]
    }
   ],
   "source": [
    "data = np.load(\"po3_1w_product_22o.npz\")\n",
    "\n",
    "# Get core energy and one-/two-body tensors\n",
    "ecore = data['ECORE']\n",
    "h1 = np.array(data['H1'])\n",
    "h2 = np.array(data['H2'])\n",
    "norb = data[\"NORB\"]\n",
    "\n",
    "# Get number of alpha and beta electrons\n",
    "n_a = int(data[\"NELEC\"]/2)\n",
    "n_b = int(data[\"NELEC\"]/2)\n",
    "\n",
    "h2 = 0.5 * np.asarray(h2.transpose(0, 2, 3, 1), order=\"C\")\n",
    "h1_new, h2_new = of.chem.molecular_data.spinorb_from_spatial(h1, h2)\n",
    "\n",
    "# Get the Hamiltonian and transform it to FermionOperator\n",
    "h = of.InteractionOperator(ecore.item(), h1_new, h2_new)\n",
    "\n",
    "hamiltonian = of.get_fermion_operator(h)\n",
    "# hamiltonian.compress(0.001)\n",
    "\n",
    "nqubits = of.utils.count_qubits(hamiltonian)\n",
    "nterms = len(hamiltonian.terms)\n",
    "\n",
    "print(f\"Hamiltonian acts on {nqubits} qubit(s) and has {nterms} term(s).\")"
   ]
  },
  {
   "cell_type": "code",
   "execution_count": null,
   "id": "fed56cca",
   "metadata": {},
   "outputs": [],
   "source": []
  }
 ],
 "metadata": {
  "kernelspec": {
   "display_name": "compare (3.13.7)",
   "language": "python",
   "name": "python3"
  },
  "language_info": {
   "codemirror_mode": {
    "name": "ipython",
    "version": 3
   },
   "file_extension": ".py",
   "mimetype": "text/x-python",
   "name": "python",
   "nbconvert_exporter": "python",
   "pygments_lexer": "ipython3",
   "version": "3.13.7"
  }
 },
 "nbformat": 4,
 "nbformat_minor": 5
}
