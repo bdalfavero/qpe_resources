{
 "cells": [
  {
   "cell_type": "code",
   "execution_count": 6,
   "id": "a01fa1c5",
   "metadata": {},
   "outputs": [],
   "source": [
    "from math import sqrt, ceil\n",
    "import numpy as np\n",
    "from scipy.sparse.linalg import norm\n",
    "import matplotlib.pyplot as plt\n",
    "import cirq\n",
    "import openfermion as of\n",
    "from openfermionpyscf import run_pyscf"
   ]
  },
  {
   "cell_type": "code",
   "execution_count": 7,
   "id": "830366c2",
   "metadata": {},
   "outputs": [],
   "source": [
    "def eps2_bound(hamiltonian: cirq.PauliSum) -> float:\n",
    "    \"\"\"Get a bound on eps2.\"\"\"\n",
    "\n",
    "    M = len(hamiltonian)\n",
    "    coeffs = np.array([ps.coefficient for ps in hamiltonian])\n",
    "    i_max = np.argmax(np.abs(coeffs))\n",
    "    max_coeff = coeffs[i_max]\n",
    "    n_summands = M\n",
    "    return (-1. / 24) * 0.5 * max_coeff ** 3 * n_summands ** 3"
   ]
  },
  {
   "cell_type": "markdown",
   "id": "b79690e4",
   "metadata": {},
   "source": [
    "## Bounds for Hubbard"
   ]
  },
  {
   "cell_type": "code",
   "execution_count": 8,
   "id": "ee757a08",
   "metadata": {},
   "outputs": [],
   "source": [
    "energy_error = 1e-3"
   ]
  },
  {
   "cell_type": "code",
   "execution_count": 9,
   "id": "878e5782",
   "metadata": {},
   "outputs": [
    {
     "name": "stdout",
     "output_type": "stream",
     "text": [
      "2 0.04908738521234052 126\n",
      "3 0.01090830782496456 1947\n",
      "4 0.006135923151542623 6090\n"
     ]
    },
    {
     "name": "stderr",
     "output_type": "stream",
     "text": [
      "/Users/benjamindalfavero/.venv/compare/lib/python3.13/site-packages/scipy/sparse/linalg/_eigen/_svds.py:477: UserWarning: Exited at iteration 20 with accuracies \n",
      "[0.00160814]\n",
      "not reaching the requested tolerance 0.0009765625.\n",
      "Use iteration 21 instead with accuracy \n",
      "0.001608135271017929.\n",
      "\n",
      "  _, eigvec = lobpcg(XH_X, X, tol=tol ** 2, maxiter=maxiter,\n",
      "/Users/benjamindalfavero/.venv/compare/lib/python3.13/site-packages/scipy/sparse/linalg/_eigen/_svds.py:477: UserWarning: Exited postprocessing with accuracies \n",
      "[0.00160814]\n",
      "not reaching the requested tolerance 0.0009765625.\n",
      "  _, eigvec = lobpcg(XH_X, X, tol=tol ** 2, maxiter=maxiter,\n"
     ]
    }
   ],
   "source": [
    "# Hubbard\n",
    "\n",
    "t = 1.0\n",
    "u = 4.0\n",
    "ls = [2, 3, 4]\n",
    "eps2_bounds = []\n",
    "dt_bounds = []\n",
    "taus = []\n",
    "nsteps = []\n",
    "for l in ls:\n",
    "    ham = of.fermi_hubbard(l, l, t, u, spinless=True)\n",
    "    ham_jw = of.transforms.jordan_wigner(ham)\n",
    "    ham_cirq = of.transforms.qubit_operator_to_pauli_sum(ham_jw)\n",
    "    bound = eps2_bound(ham_cirq)\n",
    "    eps2_bounds.append(bound)\n",
    "    dt = sqrt(energy_error / abs(bound))\n",
    "    dt_bounds.append(dt)\n",
    "    ham_sparse = of.linalg.get_sparse_operator(ham_jw)\n",
    "    ham_norm = norm(ham_sparse, ord=2)\n",
    "    tau = np.pi / (4. * ham_norm)\n",
    "    taus.append(tau)\n",
    "    ns = ceil(tau / dt)\n",
    "    nsteps.append(ns)\n",
    "\n",
    "for i in range(len(ls)):\n",
    "    print(ls[i], taus[i], nsteps[i])"
   ]
  },
  {
   "cell_type": "code",
   "execution_count": 13,
   "id": "9e1f81af",
   "metadata": {},
   "outputs": [
    {
     "name": "stdout",
     "output_type": "stream",
     "text": [
      "l=2\n",
      "l=4\n",
      "l=6\n",
      "l=8\n",
      "l=10\n",
      "l=12\n",
      "l=14\n",
      "2 0.41279478724443996 21\n",
      "4 0.10505102540059179 234\n",
      "6 0.04370067008237355 1533\n",
      "8 0.023224433997199274 5292\n",
      "10 0.01416324136135583 13305\n",
      "12 0.009455711625595036 27795\n",
      "14 0.006719252979329445 51359\n"
     ]
    }
   ],
   "source": [
    "# Hyrdogen chains\n",
    "\n",
    "ls = [2, 4, 6, 8, 10, 12, 14]\n",
    "eps2_bounds = []\n",
    "dt_bounds = []\n",
    "taus = []\n",
    "nsteps = []\n",
    "for l in ls:\n",
    "    print(f\"l={l}\")\n",
    "    bond_length = 1.0 \n",
    "    natoms = l\n",
    "    geometry = [(\"H\", (0, 0, i * bond_length)) for i in range(natoms)]\n",
    "    molecule = of.MolecularData(geometry, basis=\"sto-3g\", multiplicity=1, charge=0)\n",
    "    molecule = run_pyscf(molecule, run_mp2=True, run_cisd=True, run_ccsd=True, run_fci=True)\n",
    "    fermion_hamiltonian = of.get_fermion_operator(molecule.get_molecular_hamiltonian())\n",
    "    ham_jw = of.jordan_wigner(fermion_hamiltonian)\n",
    "    nterms = len(ham_jw.terms)\n",
    "    ham_cirq = of.transforms.qubit_operator_to_pauli_sum(ham_jw)\n",
    "\n",
    "    bound = eps2_bound(ham_cirq)\n",
    "    eps2_bounds.append(bound)\n",
    "    dt = sqrt(energy_error / abs(bound))\n",
    "    dt_bounds.append(dt)\n",
    "    # ham_sparse = of.linalg.get_sparse_operator(ham_jw)\n",
    "    # ham_norm = norm(ham_sparse, ord=2)\n",
    "    # tau = np.pi / (4. * ham_norm)\n",
    "\n",
    "    # Approximate the norm of the Hamiltonian with the triangle inequality.\n",
    "    # This is an upper bond on the norm, so we will have smaller tau than we should.\n",
    "    coeffs = np.array([ps.coefficient for ps in ham_cirq])\n",
    "    ham_norm = np.sum(np.abs(coeffs))\n",
    "    tau = np.pi / (4. * ham_norm)\n",
    "\n",
    "    taus.append(tau)\n",
    "    ns = ceil(tau / dt)\n",
    "    nsteps.append(ns)\n",
    "\n",
    "for i in range(len(ls)):\n",
    "    print(ls[i], taus[i], nsteps[i])"
   ]
  },
  {
   "cell_type": "markdown",
   "id": "aa68494b",
   "metadata": {},
   "source": [
    "## Histogram Pauli string coefficients for different Hamiltonians"
   ]
  },
  {
   "cell_type": "code",
   "execution_count": 11,
   "id": "41607c39",
   "metadata": {},
   "outputs": [
    {
     "data": {
      "text/plain": [
       "(array([1.372e+03, 0.000e+00, 0.000e+00, 0.000e+00, 0.000e+00, 0.000e+00,\n",
       "        0.000e+00, 0.000e+00, 0.000e+00, 1.000e+00]),\n",
       " array([  0.5 ,  39.65,  78.8 , 117.95, 157.1 , 196.25, 235.4 , 274.55,\n",
       "        313.7 , 352.85, 392.  ]),\n",
       " <BarContainer object of 10 artists>)"
      ]
     },
     "execution_count": 11,
     "metadata": {},
     "output_type": "execute_result"
    },
    {
     "data": {
      "image/png": "[encoded data removed]",
      "text/plain": [
       "<Figure size 640x480 with 1 Axes>"
      ]
     },
     "metadata": {},
     "output_type": "display_data"
    }
   ],
   "source": [
    "ham = of.fermi_hubbard(l, l, t, u, spinless=True)\n",
    "ham_jw = of.transforms.jordan_wigner(ham)\n",
    "ham_cirq = of.transforms.qubit_operator_to_pauli_sum(ham_jw)\n",
    "coeffs = np.array([ps.coefficient for ps in ham_cirq])\n",
    "\n",
    "fig, ax = plt.subplots()\n",
    "ax.set_title(\"Hubbard 2x2\")\n",
    "ax.hist(np.abs(coeffs))"
   ]
  },
  {
   "cell_type": "code",
   "execution_count": 12,
   "id": "4b763a81",
   "metadata": {},
   "outputs": [
    {
     "ename": "KeyboardInterrupt",
     "evalue": "",
     "output_type": "error",
     "traceback": [
      "\u001b[31m---------------------------------------------------------------------------\u001b[39m",
      "\u001b[31mKeyboardInterrupt\u001b[39m                         Traceback (most recent call last)",
      "\u001b[36mCell\u001b[39m\u001b[36m \u001b[39m\u001b[32mIn[12]\u001b[39m\u001b[32m, line 5\u001b[39m\n\u001b[32m      3\u001b[39m geometry = [(\u001b[33m\"\u001b[39m\u001b[33mH\u001b[39m\u001b[33m\"\u001b[39m, (\u001b[32m0\u001b[39m, \u001b[32m0\u001b[39m, i * bond_length)) \u001b[38;5;28;01mfor\u001b[39;00m i \u001b[38;5;129;01min\u001b[39;00m \u001b[38;5;28mrange\u001b[39m(natoms)]\n\u001b[32m      4\u001b[39m molecule = of.MolecularData(geometry, basis=\u001b[33m\"\u001b[39m\u001b[33msto-3g\u001b[39m\u001b[33m\"\u001b[39m, multiplicity=\u001b[32m1\u001b[39m, charge=\u001b[32m0\u001b[39m)\n\u001b[32m----> \u001b[39m\u001b[32m5\u001b[39m molecule = \u001b[43mrun_pyscf\u001b[49m\u001b[43m(\u001b[49m\u001b[43mmolecule\u001b[49m\u001b[43m,\u001b[49m\u001b[43m \u001b[49m\u001b[43mrun_mp2\u001b[49m\u001b[43m=\u001b[49m\u001b[38;5;28;43;01mTrue\u001b[39;49;00m\u001b[43m,\u001b[49m\u001b[43m \u001b[49m\u001b[43mrun_cisd\u001b[49m\u001b[43m=\u001b[49m\u001b[38;5;28;43;01mTrue\u001b[39;49;00m\u001b[43m,\u001b[49m\u001b[43m \u001b[49m\u001b[43mrun_ccsd\u001b[49m\u001b[43m=\u001b[49m\u001b[38;5;28;43;01mTrue\u001b[39;49;00m\u001b[43m,\u001b[49m\u001b[43m \u001b[49m\u001b[43mrun_fci\u001b[49m\u001b[43m=\u001b[49m\u001b[38;5;28;43;01mTrue\u001b[39;49;00m\u001b[43m)\u001b[49m\n\u001b[32m      6\u001b[39m fermion_hamiltonian = of.get_fermion_operator(molecule.get_molecular_hamiltonian())\n\u001b[32m      7\u001b[39m ham_jw = of.jordan_wigner(fermion_hamiltonian)\n",
      "\u001b[36mFile \u001b[39m\u001b[32m~/.venv/compare/lib/python3.13/site-packages/openfermionpyscf/_run_pyscf.py:196\u001b[39m, in \u001b[36mrun_pyscf\u001b[39m\u001b[34m(molecule, run_scf, run_mp2, run_cisd, run_ccsd, run_fci, verbose)\u001b[39m\n\u001b[32m    194\u001b[39m pyscf_fci = fci.FCI(pyscf_molecule, pyscf_scf.mo_coeff)\n\u001b[32m    195\u001b[39m pyscf_fci.verbose = \u001b[32m0\u001b[39m\n\u001b[32m--> \u001b[39m\u001b[32m196\u001b[39m molecule.fci_energy = \u001b[43mpyscf_fci\u001b[49m\u001b[43m.\u001b[49m\u001b[43mkernel\u001b[49m\u001b[43m(\u001b[49m\u001b[43m)\u001b[49m[\u001b[32m0\u001b[39m]\n\u001b[32m    197\u001b[39m pyscf_data[\u001b[33m'\u001b[39m\u001b[33mfci\u001b[39m\u001b[33m'\u001b[39m] = pyscf_fci\n\u001b[32m    198\u001b[39m \u001b[38;5;28;01mif\u001b[39;00m verbose:\n",
      "\u001b[36mFile \u001b[39m\u001b[32m~/.venv/compare/lib/python3.13/site-packages/pyscf/fci/__init__.py:225\u001b[39m, in \u001b[36mFCI.<locals>.CISolver.kernel\u001b[39m\u001b[34m(self, h1e, eri, norb, nelec, ci0, ecore, **kwargs)\u001b[39m\n\u001b[32m    223\u001b[39m \u001b[38;5;28;01mdef\u001b[39;00m\u001b[38;5;250m \u001b[39m\u001b[34mkernel\u001b[39m(\u001b[38;5;28mself\u001b[39m, h1e=h1e, eri=eri, norb=norb, nelec=nelec, ci0=\u001b[38;5;28;01mNone\u001b[39;00m,\n\u001b[32m    224\u001b[39m            ecore=ecore, **kwargs):\n\u001b[32m--> \u001b[39m\u001b[32m225\u001b[39m     \u001b[38;5;28;01mreturn\u001b[39;00m \u001b[43mfcisolver_class\u001b[49m\u001b[43m.\u001b[49m\u001b[43mkernel\u001b[49m\u001b[43m(\u001b[49m\u001b[38;5;28;43mself\u001b[39;49m\u001b[43m,\u001b[49m\u001b[43m \u001b[49m\u001b[43mh1e\u001b[49m\u001b[43m,\u001b[49m\u001b[43m \u001b[49m\u001b[43meri\u001b[49m\u001b[43m,\u001b[49m\u001b[43m \u001b[49m\u001b[43mnorb\u001b[49m\u001b[43m,\u001b[49m\u001b[43m \u001b[49m\u001b[43mnelec\u001b[49m\u001b[43m,\u001b[49m\u001b[43m \u001b[49m\u001b[43mci0\u001b[49m\u001b[43m,\u001b[49m\n\u001b[32m    226\u001b[39m \u001b[43m                                  \u001b[49m\u001b[43mecore\u001b[49m\u001b[43m=\u001b[49m\u001b[43mecore\u001b[49m\u001b[43m,\u001b[49m\u001b[43m \u001b[49m\u001b[43m*\u001b[49m\u001b[43m*\u001b[49m\u001b[43mkwargs\u001b[49m\u001b[43m)\u001b[49m\n",
      "\u001b[36mFile \u001b[39m\u001b[32m~/.venv/compare/lib/python3.13/site-packages/pyscf/fci/direct_spin1.py:958\u001b[39m, in \u001b[36mFCIBase.kernel\u001b[39m\u001b[34m(self, h1e, eri, norb, nelec, ci0, tol, lindep, max_cycle, max_space, nroots, davidson_only, pspace_size, orbsym, wfnsym, ecore, **kwargs)\u001b[39m\n\u001b[32m    956\u001b[39m \u001b[38;5;28mself\u001b[39m.nelec = nelec = _unpack_nelec(nelec, \u001b[38;5;28mself\u001b[39m.spin)\n\u001b[32m    957\u001b[39m link_index = _unpack(norb, nelec, \u001b[38;5;28;01mNone\u001b[39;00m)\n\u001b[32m--> \u001b[39m\u001b[32m958\u001b[39m e, c = \u001b[43mkernel_ms1\u001b[49m\u001b[43m(\u001b[49m\u001b[38;5;28;43mself\u001b[39;49m\u001b[43m,\u001b[49m\u001b[43m \u001b[49m\u001b[43mh1e\u001b[49m\u001b[43m,\u001b[49m\u001b[43m \u001b[49m\u001b[43meri\u001b[49m\u001b[43m,\u001b[49m\u001b[43m \u001b[49m\u001b[43mnorb\u001b[49m\u001b[43m,\u001b[49m\u001b[43m \u001b[49m\u001b[43mnelec\u001b[49m\u001b[43m,\u001b[49m\u001b[43m \u001b[49m\u001b[43mci0\u001b[49m\u001b[43m,\u001b[49m\u001b[43m \u001b[49m\u001b[43mlink_index\u001b[49m\u001b[43m,\u001b[49m\n\u001b[32m    959\u001b[39m \u001b[43m                  \u001b[49m\u001b[43mtol\u001b[49m\u001b[43m,\u001b[49m\u001b[43m \u001b[49m\u001b[43mlindep\u001b[49m\u001b[43m,\u001b[49m\u001b[43m \u001b[49m\u001b[43mmax_cycle\u001b[49m\u001b[43m,\u001b[49m\u001b[43m \u001b[49m\u001b[43mmax_space\u001b[49m\u001b[43m,\u001b[49m\u001b[43m \u001b[49m\u001b[43mnroots\u001b[49m\u001b[43m,\u001b[49m\n\u001b[32m    960\u001b[39m \u001b[43m                  \u001b[49m\u001b[43mdavidson_only\u001b[49m\u001b[43m,\u001b[49m\u001b[43m \u001b[49m\u001b[43mpspace_size\u001b[49m\u001b[43m,\u001b[49m\u001b[43m \u001b[49m\u001b[43mecore\u001b[49m\u001b[43m=\u001b[49m\u001b[43mecore\u001b[49m\u001b[43m,\u001b[49m\u001b[43m \u001b[49m\u001b[43m*\u001b[49m\u001b[43m*\u001b[49m\u001b[43mkwargs\u001b[49m\u001b[43m)\u001b[49m\n\u001b[32m    961\u001b[39m \u001b[38;5;28mself\u001b[39m.eci = e\n\u001b[32m    963\u001b[39m na = link_index[\u001b[32m0\u001b[39m].shape[\u001b[32m0\u001b[39m]\n",
      "\u001b[36mFile \u001b[39m\u001b[32m~/.venv/compare/lib/python3.13/site-packages/pyscf/fci/direct_spin1.py:729\u001b[39m, in \u001b[36mkernel_ms1\u001b[39m\u001b[34m(fci, h1e, eri, norb, nelec, ci0, link_index, tol, lindep, max_cycle, max_space, nroots, davidson_only, pspace_size, hop, max_memory, verbose, ecore, **kwargs)\u001b[39m\n\u001b[32m    726\u001b[39m tol_residual = \u001b[38;5;28mgetattr\u001b[39m(fci, \u001b[33m'\u001b[39m\u001b[33mconv_tol_residual\u001b[39m\u001b[33m'\u001b[39m, \u001b[38;5;28;01mNone\u001b[39;00m)\n\u001b[32m    728\u001b[39m \u001b[38;5;28;01mwith\u001b[39;00m lib.with_omp_threads(fci.threads):\n\u001b[32m--> \u001b[39m\u001b[32m729\u001b[39m     e, c = \u001b[43mfci\u001b[49m\u001b[43m.\u001b[49m\u001b[43meig\u001b[49m\u001b[43m(\u001b[49m\u001b[43mhop\u001b[49m\u001b[43m,\u001b[49m\u001b[43m \u001b[49m\u001b[43mci0\u001b[49m\u001b[43m,\u001b[49m\u001b[43m \u001b[49m\u001b[43mprecond\u001b[49m\u001b[43m,\u001b[49m\u001b[43m \u001b[49m\u001b[43mtol\u001b[49m\u001b[43m=\u001b[49m\u001b[43mtol\u001b[49m\u001b[43m,\u001b[49m\u001b[43m \u001b[49m\u001b[43mlindep\u001b[49m\u001b[43m=\u001b[49m\u001b[43mlindep\u001b[49m\u001b[43m,\u001b[49m\n\u001b[32m    730\u001b[39m \u001b[43m                   \u001b[49m\u001b[43mmax_cycle\u001b[49m\u001b[43m=\u001b[49m\u001b[43mmax_cycle\u001b[49m\u001b[43m,\u001b[49m\u001b[43m \u001b[49m\u001b[43mmax_space\u001b[49m\u001b[43m=\u001b[49m\u001b[43mmax_space\u001b[49m\u001b[43m,\u001b[49m\u001b[43m \u001b[49m\u001b[43mnroots\u001b[49m\u001b[43m=\u001b[49m\u001b[43mnroots\u001b[49m\u001b[43m,\u001b[49m\n\u001b[32m    731\u001b[39m \u001b[43m                   \u001b[49m\u001b[43mmax_memory\u001b[49m\u001b[43m=\u001b[49m\u001b[43mmax_memory\u001b[49m\u001b[43m,\u001b[49m\u001b[43m \u001b[49m\u001b[43mverbose\u001b[49m\u001b[43m=\u001b[49m\u001b[43mlog\u001b[49m\u001b[43m,\u001b[49m\u001b[43m \u001b[49m\u001b[43mfollow_state\u001b[49m\u001b[43m=\u001b[49m\u001b[38;5;28;43;01mTrue\u001b[39;49;00m\u001b[43m,\u001b[49m\n\u001b[32m    732\u001b[39m \u001b[43m                   \u001b[49m\u001b[43mtol_residual\u001b[49m\u001b[43m=\u001b[49m\u001b[43mtol_residual\u001b[49m\u001b[43m,\u001b[49m\u001b[43m \u001b[49m\u001b[43m*\u001b[49m\u001b[43m*\u001b[49m\u001b[43mkwargs\u001b[49m\u001b[43m)\u001b[49m\n\u001b[32m    733\u001b[39m \u001b[38;5;28;01mreturn\u001b[39;00m e+ecore, c\n",
      "\u001b[36mFile \u001b[39m\u001b[32m~/.venv/compare/lib/python3.13/site-packages/pyscf/fci/direct_spin1.py:926\u001b[39m, in \u001b[36mFCIBase.eig\u001b[39m\u001b[34m(self, op, x0, precond, **kwargs)\u001b[39m\n\u001b[32m    922\u001b[39m     \u001b[38;5;28mself\u001b[39m.converged = \u001b[38;5;28;01mTrue\u001b[39;00m\n\u001b[32m    923\u001b[39m     \u001b[38;5;28;01mreturn\u001b[39;00m scipy.linalg.eigh(op)\n\u001b[32m    925\u001b[39m \u001b[38;5;28mself\u001b[39m.converged, e, ci = \\\n\u001b[32m--> \u001b[39m\u001b[32m926\u001b[39m         \u001b[43mlib\u001b[49m\u001b[43m.\u001b[49m\u001b[43mdavidson1\u001b[49m\u001b[43m(\u001b[49m\u001b[38;5;28;43;01mlambda\u001b[39;49;00m\u001b[43m \u001b[49m\u001b[43mxs\u001b[49m\u001b[43m:\u001b[49m\u001b[43m \u001b[49m\u001b[43m[\u001b[49m\u001b[43mop\u001b[49m\u001b[43m(\u001b[49m\u001b[43mx\u001b[49m\u001b[43m)\u001b[49m\u001b[43m \u001b[49m\u001b[38;5;28;43;01mfor\u001b[39;49;00m\u001b[43m \u001b[49m\u001b[43mx\u001b[49m\u001b[43m \u001b[49m\u001b[38;5;129;43;01min\u001b[39;49;00m\u001b[43m \u001b[49m\u001b[43mxs\u001b[49m\u001b[43m]\u001b[49m\u001b[43m,\u001b[49m\n\u001b[32m    927\u001b[39m \u001b[43m                      \u001b[49m\u001b[43mx0\u001b[49m\u001b[43m,\u001b[49m\u001b[43m \u001b[49m\u001b[43mprecond\u001b[49m\u001b[43m,\u001b[49m\u001b[43m \u001b[49m\u001b[43mlessio\u001b[49m\u001b[43m=\u001b[49m\u001b[38;5;28;43mself\u001b[39;49m\u001b[43m.\u001b[49m\u001b[43mlessio\u001b[49m\u001b[43m,\u001b[49m\u001b[43m \u001b[49m\u001b[43m*\u001b[49m\u001b[43m*\u001b[49m\u001b[43mkwargs\u001b[49m\u001b[43m)\u001b[49m\n\u001b[32m    928\u001b[39m \u001b[38;5;28;01mif\u001b[39;00m kwargs[\u001b[33m'\u001b[39m\u001b[33mnroots\u001b[39m\u001b[33m'\u001b[39m] == \u001b[32m1\u001b[39m:\n\u001b[32m    929\u001b[39m     \u001b[38;5;28mself\u001b[39m.converged = \u001b[38;5;28mself\u001b[39m.converged[\u001b[32m0\u001b[39m]\n",
      "\u001b[36mFile \u001b[39m\u001b[32m~/.venv/compare/lib/python3.13/site-packages/pyscf/lib/linalg_helper.py:443\u001b[39m, in \u001b[36mdavidson1\u001b[39m\u001b[34m(aop, x0, precond, tol, max_cycle, max_space, lindep, max_memory, dot, callback, nroots, lessio, pick, verbose, follow_state, tol_residual, fill_heff)\u001b[39m\n\u001b[32m    440\u001b[39m     xt = _qr(xt, dot, lindep)[\u001b[32m0\u001b[39m]\n\u001b[32m    441\u001b[39m     xt = xt[:\u001b[32m40\u001b[39m]  \u001b[38;5;66;03m# 40 trial vectors at most\u001b[39;00m\n\u001b[32m--> \u001b[39m\u001b[32m443\u001b[39m axt = \u001b[43maop\u001b[49m\u001b[43m(\u001b[49m\u001b[43mxt\u001b[49m\u001b[43m)\u001b[49m\n\u001b[32m    444\u001b[39m \u001b[38;5;28;01mfor\u001b[39;00m k, xi \u001b[38;5;129;01min\u001b[39;00m \u001b[38;5;28menumerate\u001b[39m(xt):\n\u001b[32m    445\u001b[39m     xs.append(xt[k])\n",
      "\u001b[36mFile \u001b[39m\u001b[32m~/.venv/compare/lib/python3.13/site-packages/pyscf/fci/direct_spin1.py:926\u001b[39m, in \u001b[36mFCIBase.eig.<locals>.<lambda>\u001b[39m\u001b[34m(xs)\u001b[39m\n\u001b[32m    922\u001b[39m     \u001b[38;5;28mself\u001b[39m.converged = \u001b[38;5;28;01mTrue\u001b[39;00m\n\u001b[32m    923\u001b[39m     \u001b[38;5;28;01mreturn\u001b[39;00m scipy.linalg.eigh(op)\n\u001b[32m    925\u001b[39m \u001b[38;5;28mself\u001b[39m.converged, e, ci = \\\n\u001b[32m--> \u001b[39m\u001b[32m926\u001b[39m         lib.davidson1(\u001b[38;5;28;01mlambda\u001b[39;00m xs: [\u001b[43mop\u001b[49m\u001b[43m(\u001b[49m\u001b[43mx\u001b[49m\u001b[43m)\u001b[49m \u001b[38;5;28;01mfor\u001b[39;00m x \u001b[38;5;129;01min\u001b[39;00m xs],\n\u001b[32m    927\u001b[39m                       x0, precond, lessio=\u001b[38;5;28mself\u001b[39m.lessio, **kwargs)\n\u001b[32m    928\u001b[39m \u001b[38;5;28;01mif\u001b[39;00m kwargs[\u001b[33m'\u001b[39m\u001b[33mnroots\u001b[39m\u001b[33m'\u001b[39m] == \u001b[32m1\u001b[39m:\n\u001b[32m    929\u001b[39m     \u001b[38;5;28mself\u001b[39m.converged = \u001b[38;5;28mself\u001b[39m.converged[\u001b[32m0\u001b[39m]\n",
      "\u001b[36mFile \u001b[39m\u001b[32m~/.venv/compare/lib/python3.13/site-packages/pyscf/fci/direct_spin1.py:691\u001b[39m, in \u001b[36mkernel_ms1.<locals>.hop\u001b[39m\u001b[34m(c)\u001b[39m\n\u001b[32m    690\u001b[39m \u001b[38;5;28;01mdef\u001b[39;00m\u001b[38;5;250m \u001b[39m\u001b[34mhop\u001b[39m(c):\n\u001b[32m--> \u001b[39m\u001b[32m691\u001b[39m     hc = \u001b[43mfci\u001b[49m\u001b[43m.\u001b[49m\u001b[43mcontract_2e\u001b[49m\u001b[43m(\u001b[49m\u001b[43mh2e\u001b[49m\u001b[43m,\u001b[49m\u001b[43m \u001b[49m\u001b[43mc\u001b[49m\u001b[43m,\u001b[49m\u001b[43m \u001b[49m\u001b[43mnorb\u001b[49m\u001b[43m,\u001b[49m\u001b[43m \u001b[49m\u001b[43mnelec\u001b[49m\u001b[43m,\u001b[49m\u001b[43m \u001b[49m\u001b[43mlink_index\u001b[49m\u001b[43m)\u001b[49m\n\u001b[32m    692\u001b[39m     cpu0[:] = log.timer_debug1(\u001b[33m'\u001b[39m\u001b[33mcontract_2e\u001b[39m\u001b[33m'\u001b[39m, *cpu0)\n\u001b[32m    693\u001b[39m     \u001b[38;5;28;01mreturn\u001b[39;00m hc.ravel()\n",
      "\u001b[36mFile \u001b[39m\u001b[32m~/.venv/compare/lib/python3.13/site-packages/pyscf/fci/direct_spin1.py:918\u001b[39m, in \u001b[36mFCIBase.contract_2e\u001b[39m\u001b[34m(self, eri, fcivec, norb, nelec, link_index, **kwargs)\u001b[39m\n\u001b[32m    915\u001b[39m \u001b[38;5;129m@lib\u001b[39m.with_doc(contract_2e.\u001b[34m__doc__\u001b[39m)\n\u001b[32m    916\u001b[39m \u001b[38;5;28;01mdef\u001b[39;00m\u001b[38;5;250m \u001b[39m\u001b[34mcontract_2e\u001b[39m(\u001b[38;5;28mself\u001b[39m, eri, fcivec, norb, nelec, link_index=\u001b[38;5;28;01mNone\u001b[39;00m, **kwargs):\n\u001b[32m    917\u001b[39m     nelec = _unpack_nelec(nelec, \u001b[38;5;28mself\u001b[39m.spin)\n\u001b[32m--> \u001b[39m\u001b[32m918\u001b[39m     \u001b[38;5;28;01mreturn\u001b[39;00m \u001b[43mcontract_2e\u001b[49m\u001b[43m(\u001b[49m\u001b[43meri\u001b[49m\u001b[43m,\u001b[49m\u001b[43m \u001b[49m\u001b[43mfcivec\u001b[49m\u001b[43m,\u001b[49m\u001b[43m \u001b[49m\u001b[43mnorb\u001b[49m\u001b[43m,\u001b[49m\u001b[43m \u001b[49m\u001b[43mnelec\u001b[49m\u001b[43m,\u001b[49m\u001b[43m \u001b[49m\u001b[43mlink_index\u001b[49m\u001b[43m,\u001b[49m\u001b[43m \u001b[49m\u001b[43m*\u001b[49m\u001b[43m*\u001b[49m\u001b[43mkwargs\u001b[49m\u001b[43m)\u001b[49m\n",
      "\u001b[36mFile \u001b[39m\u001b[32m~/.venv/compare/lib/python3.13/site-packages/pyscf/fci/direct_spin1.py:135\u001b[39m, in \u001b[36mcontract_2e\u001b[39m\u001b[34m(eri, fcivec, norb, nelec, link_index)\u001b[39m\n\u001b[32m    132\u001b[39m \u001b[38;5;28;01massert\u001b[39;00m fcivec.dtype == eri.dtype == numpy.float64\n\u001b[32m    133\u001b[39m ci1 = numpy.empty_like(fcivec)\n\u001b[32m--> \u001b[39m\u001b[32m135\u001b[39m \u001b[43mlibfci\u001b[49m\u001b[43m.\u001b[49m\u001b[43mFCIcontract_2e_spin1\u001b[49m\u001b[43m(\u001b[49m\u001b[43meri\u001b[49m\u001b[43m.\u001b[49m\u001b[43mctypes\u001b[49m\u001b[43m.\u001b[49m\u001b[43mdata_as\u001b[49m\u001b[43m(\u001b[49m\u001b[43mctypes\u001b[49m\u001b[43m.\u001b[49m\u001b[43mc_void_p\u001b[49m\u001b[43m)\u001b[49m\u001b[43m,\u001b[49m\n\u001b[32m    136\u001b[39m \u001b[43m                            \u001b[49m\u001b[43mfcivec\u001b[49m\u001b[43m.\u001b[49m\u001b[43mctypes\u001b[49m\u001b[43m.\u001b[49m\u001b[43mdata_as\u001b[49m\u001b[43m(\u001b[49m\u001b[43mctypes\u001b[49m\u001b[43m.\u001b[49m\u001b[43mc_void_p\u001b[49m\u001b[43m)\u001b[49m\u001b[43m,\u001b[49m\n\u001b[32m    137\u001b[39m \u001b[43m                            \u001b[49m\u001b[43mci1\u001b[49m\u001b[43m.\u001b[49m\u001b[43mctypes\u001b[49m\u001b[43m.\u001b[49m\u001b[43mdata_as\u001b[49m\u001b[43m(\u001b[49m\u001b[43mctypes\u001b[49m\u001b[43m.\u001b[49m\u001b[43mc_void_p\u001b[49m\u001b[43m)\u001b[49m\u001b[43m,\u001b[49m\n\u001b[32m    138\u001b[39m \u001b[43m                            \u001b[49m\u001b[43mctypes\u001b[49m\u001b[43m.\u001b[49m\u001b[43mc_int\u001b[49m\u001b[43m(\u001b[49m\u001b[43mnorb\u001b[49m\u001b[43m)\u001b[49m\u001b[43m,\u001b[49m\n\u001b[32m    139\u001b[39m \u001b[43m                            \u001b[49m\u001b[43mctypes\u001b[49m\u001b[43m.\u001b[49m\u001b[43mc_int\u001b[49m\u001b[43m(\u001b[49m\u001b[43mna\u001b[49m\u001b[43m)\u001b[49m\u001b[43m,\u001b[49m\u001b[43m \u001b[49m\u001b[43mctypes\u001b[49m\u001b[43m.\u001b[49m\u001b[43mc_int\u001b[49m\u001b[43m(\u001b[49m\u001b[43mnb\u001b[49m\u001b[43m)\u001b[49m\u001b[43m,\u001b[49m\n\u001b[32m    140\u001b[39m \u001b[43m                            \u001b[49m\u001b[43mctypes\u001b[49m\u001b[43m.\u001b[49m\u001b[43mc_int\u001b[49m\u001b[43m(\u001b[49m\u001b[43mnlinka\u001b[49m\u001b[43m)\u001b[49m\u001b[43m,\u001b[49m\u001b[43m \u001b[49m\u001b[43mctypes\u001b[49m\u001b[43m.\u001b[49m\u001b[43mc_int\u001b[49m\u001b[43m(\u001b[49m\u001b[43mnlinkb\u001b[49m\u001b[43m)\u001b[49m\u001b[43m,\u001b[49m\n\u001b[32m    141\u001b[39m \u001b[43m                            \u001b[49m\u001b[43mlink_indexa\u001b[49m\u001b[43m.\u001b[49m\u001b[43mctypes\u001b[49m\u001b[43m.\u001b[49m\u001b[43mdata_as\u001b[49m\u001b[43m(\u001b[49m\u001b[43mctypes\u001b[49m\u001b[43m.\u001b[49m\u001b[43mc_void_p\u001b[49m\u001b[43m)\u001b[49m\u001b[43m,\u001b[49m\n\u001b[32m    142\u001b[39m \u001b[43m                            \u001b[49m\u001b[43mlink_indexb\u001b[49m\u001b[43m.\u001b[49m\u001b[43mctypes\u001b[49m\u001b[43m.\u001b[49m\u001b[43mdata_as\u001b[49m\u001b[43m(\u001b[49m\u001b[43mctypes\u001b[49m\u001b[43m.\u001b[49m\u001b[43mc_void_p\u001b[49m\u001b[43m)\u001b[49m\u001b[43m)\u001b[49m\n\u001b[32m    143\u001b[39m \u001b[38;5;28;01mreturn\u001b[39;00m ci1.view(FCIvector)\n",
      "\u001b[31mKeyboardInterrupt\u001b[39m: "
     ]
    }
   ],
   "source": [
    "bond_length = 1.0 \n",
    "natoms = l\n",
    "geometry = [(\"H\", (0, 0, i * bond_length)) for i in range(natoms)]\n",
    "molecule = of.MolecularData(geometry, basis=\"sto-3g\", multiplicity=1, charge=0)\n",
    "molecule = run_pyscf(molecule, run_mp2=True, run_cisd=True, run_ccsd=True, run_fci=True)\n",
    "fermion_hamiltonian = of.get_fermion_operator(molecule.get_molecular_hamiltonian())\n",
    "ham_jw = of.jordan_wigner(fermion_hamiltonian)\n",
    "nterms = len(ham_jw.terms)\n",
    "ham_cirq = of.transforms.qubit_operator_to_pauli_sum(ham_jw)\n",
    "coeffs = np.array([ps.coefficient for ps in ham_cirq])\n",
    "\n",
    "fig, ax = plt.subplots()\n",
    "ax.set_title(f\"Hydrogen chain l={l}\")\n",
    "ax.hist(np.abs(coeffs))"
   ]
  },
  {
   "cell_type": "markdown",
   "id": "8b36d948",
   "metadata": {},
   "source": [
    "# Get a looser bound using just the coefficients."
   ]
  },
  {
   "cell_type": "code",
   "execution_count": null,
   "id": "91e3208c",
   "metadata": {},
   "outputs": [],
   "source": [
    "def eps2_coeff_bound(hamiltonian: cirq.PauliSum) -> float:\n",
    "    \"\"\"Get a bound by summing coeffs.\"\"\"\n",
    "\n",
    "    M = len(hamiltonian)\n",
    "    coeffs = [ps.coefficient for ps in hamiltonian]\n",
    "    # print(f\"M = {M}\")\n",
    "    h_sum = 0.\n",
    "    for mu in range(2 * M - 1):\n",
    "        if mu >= M:\n",
    "            i = mu - M\n",
    "            h_mu = coeffs[M - 1 - i]\n",
    "        else:\n",
    "            h_mu = coeffs[mu]\n",
    "        for nu in range(mu+1, 2 * M):\n",
    "            # print(f\"nu = {nu}\")\n",
    "            if nu >= M:\n",
    "                i = nu - M\n",
    "                h_nu = coeffs[M - 1 - i]\n",
    "            else:\n",
    "                h_nu = coeffs[nu]\n",
    "            for nu_prime in range(nu, 2 * M):\n",
    "                # print(f\"nu_prime = {nu_prime}\")\n",
    "                if nu_prime >= M:\n",
    "                    i = nu_prime - M\n",
    "                    h_nu_prime = coeffs[M - 1 - i]\n",
    "                else:\n",
    "                    h_nu_prime = coeffs[nu_prime]\n",
    "                if nu_prime == nu:\n",
    "                    delta = 1.\n",
    "                else:\n",
    "                    delta = 0.\n",
    "                h_prod = abs(h_mu * h_nu * h_nu_prime)\n",
    "                h_sum += (1. - delta / 2.) * h_prod\n",
    "    return -1. / 24. * h_sum"
   ]
  },
  {
   "cell_type": "code",
   "execution_count": null,
   "id": "42e951f7",
   "metadata": {},
   "outputs": [
    {
     "name": "stdout",
     "output_type": "stream",
     "text": [
      "2 1.55515e-03\n",
      "3 1.60772e-04\n",
      "4 6.75834e-05\n"
     ]
    }
   ],
   "source": [
    "t = 1.0\n",
    "u = 4.0\n",
    "ls = [2, 3, 4]\n",
    "eps2_bounds = []\n",
    "dt_bounds = []\n",
    "for l in ls:\n",
    "    ham = of.fermi_hubbard(l, l, t, u, spinless=True)\n",
    "    ham_jw = of.transforms.jordan_wigner(ham)\n",
    "    ham_cirq = of.transforms.qubit_operator_to_pauli_sum(ham_jw)\n",
    "    bound = eps2_coeff_bound(ham_cirq)\n",
    "    eps2_bounds.append(bound)\n",
    "    dt_bounds.append(sqrt(energy_error / abs(bound)))\n",
    "for l, dt in zip(ls, dt_bounds):\n",
    "    print(f\"{l} {dt:4.5e}\")"
   ]
  },
  {
   "cell_type": "code",
   "execution_count": null,
   "id": "1b7f25e3",
   "metadata": {},
   "outputs": [],
   "source": []
  }
 ],
 "metadata": {
  "kernelspec": {
   "display_name": "compare (3.13.7)",
   "language": "python",
   "name": "python3"
  },
  "language_info": {
   "codemirror_mode": {
    "name": "ipython",
    "version": 3
   },
   "file_extension": ".py",
   "mimetype": "text/x-python",
   "name": "python",
   "nbconvert_exporter": "python",
   "pygments_lexer": "ipython3",
   "version": "3.13.7"
  }
 },
 "nbformat": 4,
 "nbformat_minor": 5
}
