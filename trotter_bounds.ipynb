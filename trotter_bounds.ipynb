{
 "cells": [
  {
   "cell_type": "code",
   "execution_count": 2,
   "id": "a01fa1c5",
   "metadata": {},
   "outputs": [],
   "source": [
    "from math import sqrt\n",
    "import numpy as np\n",
    "import cirq\n",
    "import openfermion as of"
   ]
  },
  {
   "cell_type": "code",
   "execution_count": 10,
   "id": "830366c2",
   "metadata": {},
   "outputs": [],
   "source": [
    "def eps2_bound(hamiltonian: cirq.PauliSum) -> float:\n",
    "    \"\"\"Get a bound on eps2.\"\"\"\n",
    "\n",
    "    M = len(hamiltonian)\n",
    "    coeffs = np.array([ps.coefficient for ps in hamiltonian])\n",
    "    i_max = np.argmax(np.abs(coeffs))\n",
    "    max_coeff = coeffs[i_max]\n",
    "    n_summands = M\n",
    "    return (-1. / 24) * 0.5 * max_coeff ** 3 * n_summands ** 3"
   ]
  },
  {
   "cell_type": "markdown",
   "id": "b79690e4",
   "metadata": {},
   "source": [
    "## Bounds for Hubbard"
   ]
  },
  {
   "cell_type": "code",
   "execution_count": 11,
   "id": "ee757a08",
   "metadata": {},
   "outputs": [],
   "source": [
    "energy_error = 1e-3"
   ]
  },
  {
   "cell_type": "code",
   "execution_count": 13,
   "id": "878e5782",
   "metadata": {},
   "outputs": [
    {
     "name": "stdout",
     "output_type": "stream",
     "text": [
      "2 3.90712e-04\n",
      "3 5.60327e-06\n",
      "4 1.00758e-06\n"
     ]
    }
   ],
   "source": [
    "t = 1.0\n",
    "u = 4.0\n",
    "ls = [2, 3, 4]\n",
    "eps2_bounds = []\n",
    "dt_bounds = []\n",
    "for l in ls:\n",
    "    ham = of.fermi_hubbard(l, l, t, u, spinless=True)\n",
    "    ham_jw = of.transforms.jordan_wigner(ham)\n",
    "    ham_cirq = of.transforms.qubit_operator_to_pauli_sum(ham_jw)\n",
    "    bound = eps2_bound(ham_cirq)\n",
    "    eps2_bounds.append(bound)\n",
    "    dt_bounds.append(sqrt(energy_error / abs(bound)))\n",
    "for l, dt in zip(ls, dt_bounds):\n",
    "    print(f\"{l} {dt:4.5e}\")"
   ]
  },
  {
   "cell_type": "code",
   "execution_count": null,
   "id": "41607c39",
   "metadata": {},
   "outputs": [],
   "source": []
  }
 ],
 "metadata": {
  "kernelspec": {
   "display_name": "compare (3.13.7)",
   "language": "python",
   "name": "python3"
  },
  "language_info": {
   "codemirror_mode": {
    "name": "ipython",
    "version": 3
   },
   "file_extension": ".py",
   "mimetype": "text/x-python",
   "name": "python",
   "nbconvert_exporter": "python",
   "pygments_lexer": "ipython3",
   "version": "3.13.7"
  }
 },
 "nbformat": 4,
 "nbformat_minor": 5
}
